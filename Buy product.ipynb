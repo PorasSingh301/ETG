{
 "cells": [
  {
   "cell_type": "code",
   "execution_count": 5,
   "metadata": {},
   "outputs": [],
   "source": [
    "import json"
   ]
  },
  {
   "cell_type": "markdown",
   "metadata": {},
   "source": [
    "# Read from Record JSON"
   ]
  },
  {
   "cell_type": "code",
   "execution_count": 6,
   "metadata": {},
   "outputs": [],
   "source": [
    "fd = open(\"record.json\",\"r\")\n",
    "txt = fd.read()\n",
    "fd.close()"
   ]
  },
  {
   "cell_type": "markdown",
   "metadata": {},
   "source": [
    "# Read from \"Sale\" JSON"
   ]
  },
  {
   "cell_type": "code",
   "execution_count": 7,
   "metadata": {},
   "outputs": [],
   "source": [
    "fd = open(\"sales.json\",\"r\")\n",
    "txt=fd.read()\n",
    "fd.close()\n",
    "\n",
    "sale=json.loads(txt)"
   ]
  },
  {
   "cell_type": "code",
   "execution_count": null,
   "metadata": {},
   "outputs": [],
   "source": [
    "import json\n",
    "product = json.loads(txt)"
   ]
  },
  {
   "cell_type": "code",
   "execution_count": null,
   "metadata": {},
   "outputs": [],
   "source": [
    "product"
   ]
  },
  {
   "cell_type": "markdown",
   "metadata": {},
   "source": [
    "# Update inventory after purchase"
   ]
  },
  {
   "cell_type": "code",
   "execution_count": null,
   "metadata": {},
   "outputs": [],
   "source": [
    "import time\n",
    "ch=1\n",
    "while(ch):\n",
    "    ui_id = str(input(\"Enter Product ID: \"))\n",
    "    ui_quant = int(input(\"Enter Product Quantity: \"))\n",
    "    if product[ui_id]['quantity'] >= ui_quant or ui_quant == 0: #Check whether stock is available or not and user cannot be enter quantity zero\n",
    "        print(\"----------------------------------------\")\n",
    "        print(\"Product Name: \",product[ui_id]['name'])\n",
    "        print(\"Product Price: \",product[ui_id]['price'])\n",
    "        print(\"Billing Amount: \",product[ui_id]['price']*ui_quant)\n",
    "        product[ui_id]['quantity'] = product[ui_id]['quantity']-ui_quant\n",
    "\n",
    "        js = json.dumps(product)  #Update inventory after purchase\n",
    "        fd = open(\"record.json\",\"w\")  \n",
    "        fd.write(js)\n",
    "        fd.close()\n",
    "        \n",
    "        uname = input(\"Enter your name: \") #Take user input\n",
    "        address = input(\"Enter your address: \")\n",
    "        order_time = time.ctime()\n",
    "        \n",
    "        sale[int(len(sale))+1] = {\"user_name\" :uname, \"address\": address, \"prod_name\" : product[ui_id]['name'], \"prod_quant\" : ui_quant, \"amount\":product[ui_id]['price']*ui_quant, \"order_time\": order_time}\n",
    "        js = json.dumps(sale)\n",
    "        fd = open(\"sales.json\",\"w\")\n",
    "        fd.write(js)\n",
    "        fd.close()\n",
    "        print(\"\\nSuccessfully placed order!!!\\n This is your bill:\")\n",
    "        \n",
    "        print(\"-------------BILL---------------\")\n",
    "        print(\"Name: \",uname)\n",
    "        print(\"Address: \",address)\n",
    "        print(\"Ordered Time: \",order_time)\n",
    "        print(\"--------------------------------\")\n",
    "        print(\"Product Name: \",product[ui_id]['name'])\n",
    "        print(\"Product Price: \",product[ui_id]['price'])\n",
    "        print(\"Product Quantity: \",ui_quant)\n",
    "        print(\"Billing Amount: \",product[ui_id]['price']*ui_quant)\n",
    "        \n",
    "\n",
    "    else:\n",
    "        print(\"Material shortage!!Please enter valid quantity.....\")\n",
    "    ch=int(input(\"Want to continue press 1...\"))\n",
    "\n",
    "fd = open(\"record.json\",\"r\")\n",
    "txt = fd.read()\n",
    "fd.close()\n"
   ]
  },
  {
   "cell_type": "code",
   "execution_count": null,
   "metadata": {},
   "outputs": [],
   "source": [
    "fd = open(\"sales.json\",\"r\")\n",
    "txt=fd.read()\n",
    "fd.close()\n",
    "\n",
    "sale=json.loads(txt)\n",
    "sale"
   ]
  },
  {
   "cell_type": "code",
   "execution_count": null,
   "metadata": {},
   "outputs": [],
   "source": []
  },
  {
   "cell_type": "code",
   "execution_count": null,
   "metadata": {},
   "outputs": [],
   "source": []
  }
 ],
 "metadata": {
  "kernelspec": {
   "display_name": "Python 3",
   "language": "python",
   "name": "python3"
  },
  "language_info": {
   "codemirror_mode": {
    "name": "ipython",
    "version": 3
   },
   "file_extension": ".py",
   "mimetype": "text/x-python",
   "name": "python",
   "nbconvert_exporter": "python",
   "pygments_lexer": "ipython3",
   "version": "3.8.3"
  }
 },
 "nbformat": 4,
 "nbformat_minor": 4
}
